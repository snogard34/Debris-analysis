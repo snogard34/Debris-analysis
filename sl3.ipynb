{
 "cells": [
  {
   "cell_type": "code",
   "execution_count": 5,
   "id": "3d675ead-5c59-406f-b748-3f6176a0e222",
   "metadata": {},
   "outputs": [],
   "source": [
    "import numpy as np\n",
    "import pandas as pd\n",
    "import seaborn as sns\n",
    "import matplotlib.pyplot as plt\n",
    "from datetime import datetime"
   ]
  },
  {
   "cell_type": "code",
   "execution_count": 7,
   "id": "2a58b6f5-39a3-413e-be5c-12dfa58bc25a",
   "metadata": {},
   "outputs": [],
   "source": [
    "df = pd.read_csv(\"../Data/all_objects.csv\")"
   ]
  },
  {
   "cell_type": "code",
   "execution_count": 11,
   "id": "d04bba3d-651b-4d1c-85e2-a2b18f452b3d",
   "metadata": {},
   "outputs": [
    {
     "name": "stderr",
     "output_type": "stream",
     "text": [
      "C:\\Users\\snoga\\AppData\\Local\\Temp\\ipykernel_18772\\2770086049.py:20: SettingWithCopyWarning: \n",
      "A value is trying to be set on a copy of a slice from a DataFrame.\n",
      "Try using .loc[row_indexer,col_indexer] = value instead\n",
      "\n",
      "See the caveats in the documentation: https://pandas.pydata.org/pandas-docs/stable/user_guide/indexing.html#returning-a-view-versus-a-copy\n",
      "  sl3['altitude_km'] = sl3.apply(lambda row: calculate_altitude(row['TLE_LINE1'], row['TLE_LINE2']), axis=1)\n"
     ]
    },
    {
     "data": {
      "text/plain": [
       "4433     431.875598\n",
       "8823     489.915536\n",
       "11078    491.829427\n",
       "11199    501.826388\n",
       "11511    532.369510\n",
       "11672    519.816914\n",
       "11723    521.135530\n",
       "11755    542.412631\n",
       "12000    527.402117\n",
       "12360    501.326687\n",
       "12408    462.373125\n",
       "12773    495.567921\n",
       "17488    538.991160\n",
       "Name: altitude_km, dtype: float64"
      ]
     },
     "execution_count": 11,
     "metadata": {},
     "output_type": "execute_result"
    }
   ],
   "source": [
    "from skyfield.api import EarthSatellite, load, wgs84\n",
    "from datetime import datetime\n",
    "\n",
    "#Добавляем колонку с высотами объектов\n",
    "\n",
    "ts = load.timescale()\n",
    "planets = load('de421.bsp')\n",
    "earth = planets['earth']\n",
    "\n",
    "def calculate_altitude(tle_line1, tle_line2):\n",
    "    satellite = EarthSatellite(tle_line1, tle_line2, 'Satellite', ts)\n",
    "    t = ts.now()\n",
    "    geocentric = satellite.at(t)\n",
    "    subpoint = wgs84.subpoint(geocentric)\n",
    "    return subpoint.elevation.km \n",
    "\n",
    "sl3 = df[df['OBJECT_NAME']== 'SL-3 R/B']\n",
    "sl3['altitude_km'] = sl3.apply(lambda row: calculate_altitude(row['TLE_LINE1'], row['TLE_LINE2']), axis=1)\n",
    "\n",
    "sl3=sl3[sl3['DECAY_DATE'].isna()]\n",
    "sl3[(sl3['altitude_km'] <= 600) &(sl3['altitude_km'] >=200)]['altitude_km']"
   ]
  },
  {
   "cell_type": "code",
   "execution_count": 15,
   "id": "965b7469-64f4-4cca-a2e4-916e409d7e07",
   "metadata": {},
   "outputs": [],
   "source": [
    "#12408\n",
    "sl = df[df['OBJECT_ID'] == '1983-010B']"
   ]
  },
  {
   "cell_type": "code",
   "execution_count": 17,
   "id": "1237f183-92da-40b7-b259-2b3115af5be7",
   "metadata": {},
   "outputs": [
    {
     "data": {
      "text/plain": [
       "12408    0.001888\n",
       "Name: ECCENTRICITY, dtype: float64"
      ]
     },
     "execution_count": 17,
     "metadata": {},
     "output_type": "execute_result"
    }
   ],
   "source": [
    "sl['ECCENTRICITY']"
   ]
  },
  {
   "cell_type": "code",
   "execution_count": 19,
   "id": "3b63d0f6-45ec-4ada-bc50-42ec1d4f7e4b",
   "metadata": {},
   "outputs": [
    {
     "data": {
      "text/plain": [
       "12408    81.1039\n",
       "Name: INCLINATION, dtype: float64"
      ]
     },
     "execution_count": 19,
     "metadata": {},
     "output_type": "execute_result"
    }
   ],
   "source": [
    "sl['INCLINATION']"
   ]
  },
  {
   "cell_type": "code",
   "execution_count": 21,
   "id": "d6affd70-526f-4052-8ba9-d569fcbfb838",
   "metadata": {},
   "outputs": [
    {
     "data": {
      "text/plain": [
       "12408    83.6737\n",
       "Name: RA_OF_ASC_NODE, dtype: float64"
      ]
     },
     "execution_count": 21,
     "metadata": {},
     "output_type": "execute_result"
    }
   ],
   "source": [
    "#Долгота восходящего узла\n",
    "sl['RA_OF_ASC_NODE']"
   ]
  },
  {
   "cell_type": "code",
   "execution_count": 23,
   "id": "6ff2515f-daf7-4051-8e1a-9315d5c4bb93",
   "metadata": {},
   "outputs": [
    {
     "data": {
      "text/plain": [
       "12408    223.0512\n",
       "Name: ARG_OF_PERICENTER, dtype: float64"
      ]
     },
     "execution_count": 23,
     "metadata": {},
     "output_type": "execute_result"
    }
   ],
   "source": [
    "sl['ARG_OF_PERICENTER']"
   ]
  },
  {
   "cell_type": "code",
   "execution_count": 25,
   "id": "1595ba68-d2b2-4d97-a5bb-e9b7689a0a70",
   "metadata": {},
   "outputs": [
    {
     "data": {
      "text/plain": [
       "12408    136.9251\n",
       "Name: MEAN_ANOMALY, dtype: float64"
      ]
     },
     "execution_count": 25,
     "metadata": {},
     "output_type": "execute_result"
    }
   ],
   "source": [
    "sl['MEAN_ANOMALY']\n"
   ]
  },
  {
   "cell_type": "code",
   "execution_count": 27,
   "id": "6ea9d06f-732a-4c8c-a803-b06000270553",
   "metadata": {},
   "outputs": [
    {
     "data": {
      "text/plain": [
       "12408    0.00038\n",
       "Name: BSTAR, dtype: float64"
      ]
     },
     "execution_count": 27,
     "metadata": {},
     "output_type": "execute_result"
    }
   ],
   "source": [
    "sl['BSTAR']"
   ]
  },
  {
   "cell_type": "code",
   "execution_count": 29,
   "id": "11bad834-920b-46dc-8375-d9000fba57ae",
   "metadata": {},
   "outputs": [
    {
     "data": {
      "text/plain": [
       "12408    6837.397\n",
       "Name: SEMIMAJOR_AXIS, dtype: float64"
      ]
     },
     "execution_count": 29,
     "metadata": {},
     "output_type": "execute_result"
    }
   ],
   "source": [
    "sl['SEMIMAJOR_AXIS']"
   ]
  },
  {
   "cell_type": "code",
   "execution_count": 31,
   "id": "08594227-0de6-40a0-8050-70dda1a18ff3",
   "metadata": {},
   "outputs": [
    {
     "data": {
      "text/plain": [
       "12408    472.174\n",
       "Name: APOAPSIS, dtype: float64"
      ]
     },
     "execution_count": 31,
     "metadata": {},
     "output_type": "execute_result"
    }
   ],
   "source": [
    "sl['APOAPSIS']"
   ]
  },
  {
   "cell_type": "code",
   "execution_count": 33,
   "id": "864a8240-a563-49a0-869b-600306210275",
   "metadata": {},
   "outputs": [
    {
     "data": {
      "text/plain": [
       "12408    446.351\n",
       "Name: PERIAPSIS, dtype: float64"
      ]
     },
     "execution_count": 33,
     "metadata": {},
     "output_type": "execute_result"
    }
   ],
   "source": [
    "sl['PERIAPSIS']"
   ]
  },
  {
   "cell_type": "code",
   "execution_count": null,
   "id": "ee17ea04-0cef-4019-89ef-325d6b6c8e81",
   "metadata": {},
   "outputs": [],
   "source": []
  },
  {
   "cell_type": "code",
   "execution_count": null,
   "id": "2518f6d5-9aef-4ddc-8148-439eb0a20951",
   "metadata": {},
   "outputs": [],
   "source": []
  }
 ],
 "metadata": {
  "kernelspec": {
   "display_name": "Python 3 (ipykernel)",
   "language": "python",
   "name": "python3"
  },
  "language_info": {
   "codemirror_mode": {
    "name": "ipython",
    "version": 3
   },
   "file_extension": ".py",
   "mimetype": "text/x-python",
   "name": "python",
   "nbconvert_exporter": "python",
   "pygments_lexer": "ipython3",
   "version": "3.12.7"
  }
 },
 "nbformat": 4,
 "nbformat_minor": 5
}
